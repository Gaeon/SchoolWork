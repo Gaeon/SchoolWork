{
 "cells": [
  {
   "cell_type": "code",
   "execution_count": 4,
   "id": "8601b284-7ec7-4009-b75c-d1cd308e4bae",
   "metadata": {},
   "outputs": [
    {
     "name": "stderr",
     "output_type": "stream",
     "text": [
      "/var/folders/wg/mqtcvky91clff7hww2_z8d6m0000gn/T/ipykernel_23445/455664319.py:42: FutureWarning: The default dtype for empty Series will be 'object' instead of 'float64' in a future version. Specify a dtype explicitly to silence this warning.\n",
      "  topwords = pd.Series(titlelist).value_counts()\n"
     ]
    }
   ],
   "source": [
    "from selenium import webdriver\n",
    "import time\n",
    "from selenium.webdriver.common.by import By\n",
    "from selenium.webdriver.common.keys import Keys\n",
    "from selenium.common.exceptions import NoSuchElementException\n",
    "\n",
    "driver = webdriver.Chrome()\n",
    "driver.get('https://search.naver.com/search.naver?where=blog&query=%EC%97%AC%ED%96%89%20%ED%9B%84%EA%B8%B0&sm=tab_opt&nso=so%3Ar%2Cp%3A6m')\n",
    "time.sleep(1)\n",
    "while True:\n",
    "    old_height = driver.execute_script('return window.pageYOffset')\n",
    "    driver.find_element(By.CSS_SELECTOR, 'body').send_keys(Keys.END)\n",
    "    time.sleep(1)\n",
    "    now_height = driver.execute_script('return window.pageYOffset')\n",
    "    if now_height == old_height:\n",
    "        break\n",
    "title = driver.find_elements(By.CSS_SELECTOR, '#sp_blog > div > div > a')\n",
    "titletext = []\n",
    "for i in title:\n",
    "    titletext.append(i.text)\n",
    "    \n",
    "alltitle = \" \".join(titletext)\n",
    "f = open(\"여행후기_최신.txt\", 'w')\n",
    "f.write(alltitle)\n",
    "f.close()\n",
    "\n",
    "from kiwipiepy import Kiwi\n",
    "import pandas as pd\n",
    "import re\n",
    "\n",
    "kiwi = Kiwi()\n",
    "kiwi.load_user_dictionary('user_dictionary.txt')\n",
    "kiwi.prepare()\n",
    "def extract_noun(text):\n",
    "    result = kiwi.tokenize(text)\n",
    "    for token in result:\n",
    "        if token.tag in ['NNG', 'NNP']:\n",
    "            yield token.form\n",
    "title = open('여행후기_최신.txt', encoding = 'UTF-8').read()\n",
    "title = re.sub('[^가-힣]', '', title)\n",
    "titlelist = list(extract_noun(title))\n",
    "topwords = pd.Series(titlelist).value_counts()\n",
    "topwords.to_csv(\"여행후기_최신.csv\")"
   ]
  },
  {
   "cell_type": "code",
   "execution_count": 5,
   "id": "1f663940-1669-413d-bd42-15c911ef6e4a",
   "metadata": {},
   "outputs": [
    {
     "name": "stderr",
     "output_type": "stream",
     "text": [
      "/var/folders/wg/mqtcvky91clff7hww2_z8d6m0000gn/T/ipykernel_23445/568721293.py:42: FutureWarning: The default dtype for empty Series will be 'object' instead of 'float64' in a future version. Specify a dtype explicitly to silence this warning.\n",
      "  topwords = pd.Series(titlelist).value_counts()\n"
     ]
    }
   ],
   "source": [
    "from selenium import webdriver\n",
    "import time\n",
    "from selenium.webdriver.common.by import By\n",
    "from selenium.webdriver.common.keys import Keys\n",
    "from selenium.common.exceptions import NoSuchElementException\n",
    "\n",
    "driver = webdriver.Chrome()\n",
    "driver.get('https://search.naver.com/search.naver?where=blog&query=%EC%97%AC%ED%96%89%20%ED%9B%84%EA%B8%B0&sm=tab_opt&nso=so:r,p:from20190501to20191130')\n",
    "time.sleep(1)\n",
    "while True:\n",
    "    old_height = driver.execute_script('return window.pageYOffset')\n",
    "    driver.find_element(By.CSS_SELECTOR, 'body').send_keys(Keys.END)\n",
    "    time.sleep(1)\n",
    "    now_height = driver.execute_script('return window.pageYOffset')\n",
    "    if now_height == old_height:\n",
    "        break\n",
    "title = driver.find_elements(By.CSS_SELECTOR, '#sp_blog > div > div > a')\n",
    "titletext = []\n",
    "for i in title:\n",
    "    titletext.append(i.text)\n",
    "    \n",
    "alltitle = \" \".join(titletext)\n",
    "f = open(\"여행후기_이전.txt\", 'w')\n",
    "f.write(alltitle)\n",
    "f.close()\n",
    "\n",
    "from kiwipiepy import Kiwi\n",
    "import pandas as pd\n",
    "import re\n",
    "\n",
    "kiwi = Kiwi()\n",
    "kiwi.load_user_dictionary('user_dictionary.txt')\n",
    "kiwi.prepare()\n",
    "def extract_noun(text):\n",
    "    result = kiwi.tokenize(text)\n",
    "    for token in result:\n",
    "        if token.tag in ['NNG', 'NNP']:\n",
    "            yield token.form\n",
    "title = open('여행후기_이전.txt', encoding = 'UTF-8').read()\n",
    "title = re.sub('[^가-힣]', '', title)\n",
    "titlelist = list(extract_noun(title))\n",
    "topwords = pd.Series(titlelist).value_counts()\n",
    "topwords.to_csv(\"여행후기_이전.csv\")"
   ]
  },
  {
   "cell_type": "code",
   "execution_count": null,
   "id": "56470be9-c17f-45e5-b746-dda2c13aacb5",
   "metadata": {},
   "outputs": [],
   "source": []
  }
 ],
 "metadata": {
  "kernelspec": {
   "display_name": "Python 3 (ipykernel)",
   "language": "python",
   "name": "python3"
  },
  "language_info": {
   "codemirror_mode": {
    "name": "ipython",
    "version": 3
   },
   "file_extension": ".py",
   "mimetype": "text/x-python",
   "name": "python",
   "nbconvert_exporter": "python",
   "pygments_lexer": "ipython3",
   "version": "3.10.9"
  }
 },
 "nbformat": 4,
 "nbformat_minor": 5
}
