{
 "cells": [
  {
   "cell_type": "code",
   "execution_count": null,
   "id": "f1518dc7-e515-4cff-a8bb-791c9837e6f0",
   "metadata": {},
   "outputs": [],
   "source": [
    "from selenium import webdriver\n",
    "import time\n",
    "from selenium.webdriver.common.by import By\n",
    "from selenium.webdriver.common.keys import Keys\n",
    "from selenium.common.exceptions import NoSuchElementException\n",
    "\n",
    "driver = webdriver.Chrome()\n",
    "driver.get('https://m.cafe.naver.com/ca-fe/web/cafes/10186119/menus/173')\n",
    "time.sleep(1)\n",
    "scrollbutton = '#ct > div > div > div > a'\n",
    "\n",
    "for i in range(5):\n",
    "    while True:\n",
    "        old_height = driver.execute_script('return window.pageYOffset')\n",
    "        driver.find_element(By.CSS_SELECTOR, 'body').send_keys(Keys.END)\n",
    "        time.sleep(1)\n",
    "        now_height = driver.execute_script('return window.pageYOffset')\n",
    "        if now_height == old_height:\n",
    "            break\n",
    "    button = driver.find_element(By.CSS_SELECTOR, scrollbutton)\n",
    "    button.click()\n",
    "    time.sleep(0.5)\n",
    "title = driver.find_elements(By.CSS_SELECTOR, '#ct > div > div > ul > li > div > a')\n",
    "titletext = []\n",
    "for i in title:\n",
    "    titletext.append(i.text)\n",
    "    \n",
    "alltitle = \" \".join(titletext)\n",
    "f = open(\"제주_최신순.txt\", 'w')\n",
    "f.write(alltitle)\n",
    "f.close()\n",
    "    \n",
    "### 형태소 분석 ###\n",
    "from kiwipiepy import Kiwi\n",
    "import pandas as pd\n",
    "import re\n",
    "\n",
    "kiwi = Kiwi()\n",
    "kiwi.load_user_dictionary('user_dictionary.txt')\n",
    "kiwi.prepare()\n",
    "def extract_noun(text):\n",
    "    result = kiwi.tokenize(text)\n",
    "    for token in result:\n",
    "        if token.tag in ['NNG', 'NNP']:\n",
    "            yield token.form\n",
    "title = open('제주_최신순.txt', encoding = 'UTF-8').read()\n",
    "title = re.sub('[^가-힣]', '', title)\n",
    "titlelist = list(extract_noun(title))\n",
    "topwords = pd.Series(titlelist).value_counts()\n",
    "topwords.to_csv(\"제주_최신순.csv\")"
   ]
  },
  {
   "cell_type": "code",
   "execution_count": null,
   "id": "4b1b25be-ac52-41d4-a1a2-8d4bb33fd1b9",
   "metadata": {},
   "outputs": [],
   "source": []
  }
 ],
 "metadata": {
  "kernelspec": {
   "display_name": "Python 3 (ipykernel)",
   "language": "python",
   "name": "python3"
  },
  "language_info": {
   "codemirror_mode": {
    "name": "ipython",
    "version": 3
   },
   "file_extension": ".py",
   "mimetype": "text/x-python",
   "name": "python",
   "nbconvert_exporter": "python",
   "pygments_lexer": "ipython3",
   "version": "3.10.9"
  }
 },
 "nbformat": 4,
 "nbformat_minor": 5
}
