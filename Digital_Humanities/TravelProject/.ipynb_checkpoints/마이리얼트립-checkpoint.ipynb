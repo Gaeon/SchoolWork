{
 "cells": [
  {
   "cell_type": "code",
   "execution_count": 44,
   "id": "fa8206e2-2b59-4046-bb5d-57de3035fb36",
   "metadata": {},
   "outputs": [],
   "source": [
    "from selenium import webdriver\n",
    "import time\n",
    "from selenium.webdriver.common.by import By\n",
    "from selenium.webdriver.common.keys import Keys\n",
    "from selenium.common.exceptions import NoSuchElementException\n",
    "\n",
    "driver = webdriver.Chrome()\n",
    "driver.get('https://play.google.com/store/apps/details?id=com.mrt.ducati')\n",
    "time.sleep(1)\n",
    "\n",
    "driver.execute_script(\"window.scrollTo(0, 1000)\")\n",
    "review_button = '#yDmH0d > c-wiz > div > div > div > div > div > div > div > c-wiz > section > header > div > div > button > i'\n",
    "button = driver.find_element(By.CSS_SELECTOR, review_button)\n",
    "button.click()\n",
    "time.sleep(10)\n",
    "                      \n",
    "title = driver.find_elements(By.CSS_SELECTOR, '#yDmH0d > div.VfPpkd-Sx9Kwc.cC1eCc.UDxLd.PzCPDd.HQdjr.VfPpkd-Sx9Kwc-OWXEXe-FNFY6c > div.VfPpkd-wzTsW > div > div > div > div > div.fysCi > div > div > div > div.h3YV2d')\n",
    "\n",
    "titletext = []\n",
    "for i in title:\n",
    "    titletext.append(i.text)\n",
    "    \n",
    "alltitle = \"\\n\".join(titletext)\n",
    "f = open(\"마이리얼트립.txt\", 'w')\n",
    "f.write(alltitle)\n",
    "f.close()"
   ]
  },
  {
   "cell_type": "code",
   "execution_count": 73,
   "id": "2dbbadf0-0dcf-4413-8771-b05e324f64f4",
   "metadata": {},
   "outputs": [],
   "source": [
    "from kiwipiepy import Kiwi\n",
    "import pandas as pd\n",
    "import re\n",
    "\n",
    "kiwi = Kiwi()\n",
    "kiwi.load_user_dictionary('user_dictionary.txt')\n",
    "kiwi.prepare()\n",
    "def extract_noun(text):\n",
    "    result = kiwi.tokenize(text)\n",
    "    for token in result:\n",
    "        if token.tag in ['VV', 'VA', 'NNG', 'NNP']:\n",
    "            yield token.form\n",
    "title = open('트리플_1점.txt', encoding = 'UTF-8').read()\n",
    "title = re.sub('[^가-힣]', '', title)\n",
    "titlelist = list(extract_noun(title))\n",
    "topwords = pd.Series(titlelist).value_counts().head(100)\n",
    "topwords.to_csv(\"트리플_1점.csv\")"
   ]
  },
  {
   "cell_type": "code",
   "execution_count": 47,
   "id": "a7a916cb-86b2-4ba2-8bda-730684205a59",
   "metadata": {},
   "outputs": [],
   "source": [
    "from selenium import webdriver\n",
    "import time\n",
    "from selenium.webdriver.common.by import By\n",
    "from selenium.webdriver.common.keys import Keys\n",
    "from selenium.common.exceptions import NoSuchElementException\n",
    "\n",
    "driver = webdriver.Chrome()\n",
    "driver.get('https://play.google.com/store/apps/details?id=com.titicacacorp.triple')\n",
    "time.sleep(1)\n",
    "\n",
    "driver.execute_script(\"window.scrollTo(0, 1000)\")\n",
    "review_button = '#yDmH0d > c-wiz > div > div > div > div > div > div > div > c-wiz > section > header > div > div > button > i'\n",
    "button = driver.find_element(By.CSS_SELECTOR, review_button)\n",
    "button.click()\n",
    "time.sleep(10)\n",
    "                      \n",
    "title = driver.find_elements(By.CSS_SELECTOR, '#yDmH0d > div.VfPpkd-Sx9Kwc.cC1eCc.UDxLd.PzCPDd.HQdjr.VfPpkd-Sx9Kwc-OWXEXe-FNFY6c > div.VfPpkd-wzTsW > div > div > div > div > div.fysCi > div > div > div > div.h3YV2d')\n",
    "\n",
    "titletext = []\n",
    "for i in title:\n",
    "    titletext.append(i.text)\n",
    "    \n",
    "alltitle = \"\\n\".join(titletext)\n",
    "f = open(\"트리플_1점.txt\", 'w')\n",
    "f.write(alltitle)\n",
    "f.close()"
   ]
  },
  {
   "cell_type": "code",
   "execution_count": 113,
   "id": "31837dbb-e77e-4c06-a7b3-7d68da720a86",
   "metadata": {},
   "outputs": [
    {
     "ename": "OSError",
     "evalue": "cannot open resource",
     "output_type": "error",
     "traceback": [
      "\u001b[0;31m---------------------------------------------------------------------------\u001b[0m",
      "\u001b[0;31mOSError\u001b[0m                                   Traceback (most recent call last)",
      "Cell \u001b[0;32mIn[113], line 15\u001b[0m\n\u001b[1;32m      8\u001b[0m font \u001b[38;5;241m=\u001b[39m \u001b[38;5;124m\"\u001b[39m\u001b[38;5;124m./나눔스퀘어_네오.oft\u001b[39m\u001b[38;5;124m\"\u001b[39m\n\u001b[1;32m     10\u001b[0m wc \u001b[38;5;241m=\u001b[39m WordCloud(random_state \u001b[38;5;241m=\u001b[39m \u001b[38;5;241m123\u001b[39m, \n\u001b[1;32m     11\u001b[0m                font_path \u001b[38;5;241m=\u001b[39m font, \n\u001b[1;32m     12\u001b[0m                width \u001b[38;5;241m=\u001b[39m \u001b[38;5;241m400\u001b[39m,\n\u001b[1;32m     13\u001b[0m                height \u001b[38;5;241m=\u001b[39m \u001b[38;5;241m400\u001b[39m, \n\u001b[1;32m     14\u001b[0m                background_color \u001b[38;5;241m=\u001b[39m \u001b[38;5;124m'\u001b[39m\u001b[38;5;124mwhite\u001b[39m\u001b[38;5;124m'\u001b[39m)\n\u001b[0;32m---> 15\u001b[0m img_wordcloud \u001b[38;5;241m=\u001b[39m \u001b[43mwc\u001b[49m\u001b[38;5;241;43m.\u001b[39;49m\u001b[43mgenerate_from_frequencies\u001b[49m\u001b[43m(\u001b[49m\u001b[43mcloudword\u001b[49m\u001b[43m)\u001b[49m\n\u001b[1;32m     17\u001b[0m plt\u001b[38;5;241m.\u001b[39mfigure(figsize \u001b[38;5;241m=\u001b[39m (\u001b[38;5;241m10\u001b[39m, \u001b[38;5;241m10\u001b[39m)) \u001b[38;5;66;03m# 크기 지정하기\u001b[39;00m\n\u001b[1;32m     18\u001b[0m plt\u001b[38;5;241m.\u001b[39maxis(\u001b[38;5;124m'\u001b[39m\u001b[38;5;124moff\u001b[39m\u001b[38;5;124m'\u001b[39m) \u001b[38;5;66;03m# 축 없애기\u001b[39;00m\n",
      "File \u001b[0;32m~/anaconda3/lib/python3.10/site-packages/wordcloud/wordcloud.py:453\u001b[0m, in \u001b[0;36mWordCloud.generate_from_frequencies\u001b[0;34m(self, frequencies, max_font_size)\u001b[0m\n\u001b[1;32m    451\u001b[0m     font_size \u001b[38;5;241m=\u001b[39m \u001b[38;5;28mself\u001b[39m\u001b[38;5;241m.\u001b[39mheight\n\u001b[1;32m    452\u001b[0m \u001b[38;5;28;01melse\u001b[39;00m:\n\u001b[0;32m--> 453\u001b[0m     \u001b[38;5;28;43mself\u001b[39;49m\u001b[38;5;241;43m.\u001b[39;49m\u001b[43mgenerate_from_frequencies\u001b[49m\u001b[43m(\u001b[49m\u001b[38;5;28;43mdict\u001b[39;49m\u001b[43m(\u001b[49m\u001b[43mfrequencies\u001b[49m\u001b[43m[\u001b[49m\u001b[43m:\u001b[49m\u001b[38;5;241;43m2\u001b[39;49m\u001b[43m]\u001b[49m\u001b[43m)\u001b[49m\u001b[43m,\u001b[49m\n\u001b[1;32m    454\u001b[0m \u001b[43m                                   \u001b[49m\u001b[43mmax_font_size\u001b[49m\u001b[38;5;241;43m=\u001b[39;49m\u001b[38;5;28;43mself\u001b[39;49m\u001b[38;5;241;43m.\u001b[39;49m\u001b[43mheight\u001b[49m\u001b[43m)\u001b[49m\n\u001b[1;32m    455\u001b[0m     \u001b[38;5;66;03m# find font sizes\u001b[39;00m\n\u001b[1;32m    456\u001b[0m     sizes \u001b[38;5;241m=\u001b[39m [x[\u001b[38;5;241m1\u001b[39m] \u001b[38;5;28;01mfor\u001b[39;00m x \u001b[38;5;129;01min\u001b[39;00m \u001b[38;5;28mself\u001b[39m\u001b[38;5;241m.\u001b[39mlayout_]\n",
      "File \u001b[0;32m~/anaconda3/lib/python3.10/site-packages/wordcloud/wordcloud.py:503\u001b[0m, in \u001b[0;36mWordCloud.generate_from_frequencies\u001b[0;34m(self, frequencies, max_font_size)\u001b[0m\n\u001b[1;32m    500\u001b[0m tried_other_orientation \u001b[38;5;241m=\u001b[39m \u001b[38;5;28;01mFalse\u001b[39;00m\n\u001b[1;32m    501\u001b[0m \u001b[38;5;28;01mwhile\u001b[39;00m \u001b[38;5;28;01mTrue\u001b[39;00m:\n\u001b[1;32m    502\u001b[0m     \u001b[38;5;66;03m# try to find a position\u001b[39;00m\n\u001b[0;32m--> 503\u001b[0m     font \u001b[38;5;241m=\u001b[39m \u001b[43mImageFont\u001b[49m\u001b[38;5;241;43m.\u001b[39;49m\u001b[43mtruetype\u001b[49m\u001b[43m(\u001b[49m\u001b[38;5;28;43mself\u001b[39;49m\u001b[38;5;241;43m.\u001b[39;49m\u001b[43mfont_path\u001b[49m\u001b[43m,\u001b[49m\u001b[43m \u001b[49m\u001b[43mfont_size\u001b[49m\u001b[43m)\u001b[49m\n\u001b[1;32m    504\u001b[0m     \u001b[38;5;66;03m# transpose font optionally\u001b[39;00m\n\u001b[1;32m    505\u001b[0m     transposed_font \u001b[38;5;241m=\u001b[39m ImageFont\u001b[38;5;241m.\u001b[39mTransposedFont(\n\u001b[1;32m    506\u001b[0m         font, orientation\u001b[38;5;241m=\u001b[39morientation)\n",
      "File \u001b[0;32m~/anaconda3/lib/python3.10/site-packages/PIL/ImageFont.py:1008\u001b[0m, in \u001b[0;36mtruetype\u001b[0;34m(font, size, index, encoding, layout_engine)\u001b[0m\n\u001b[1;32m   1005\u001b[0m     \u001b[38;5;28;01mreturn\u001b[39;00m FreeTypeFont(font, size, index, encoding, layout_engine)\n\u001b[1;32m   1007\u001b[0m \u001b[38;5;28;01mtry\u001b[39;00m:\n\u001b[0;32m-> 1008\u001b[0m     \u001b[38;5;28;01mreturn\u001b[39;00m \u001b[43mfreetype\u001b[49m\u001b[43m(\u001b[49m\u001b[43mfont\u001b[49m\u001b[43m)\u001b[49m\n\u001b[1;32m   1009\u001b[0m \u001b[38;5;28;01mexcept\u001b[39;00m \u001b[38;5;167;01mOSError\u001b[39;00m:\n\u001b[1;32m   1010\u001b[0m     \u001b[38;5;28;01mif\u001b[39;00m \u001b[38;5;129;01mnot\u001b[39;00m is_path(font):\n",
      "File \u001b[0;32m~/anaconda3/lib/python3.10/site-packages/PIL/ImageFont.py:1005\u001b[0m, in \u001b[0;36mtruetype.<locals>.freetype\u001b[0;34m(font)\u001b[0m\n\u001b[1;32m   1004\u001b[0m \u001b[38;5;28;01mdef\u001b[39;00m \u001b[38;5;21mfreetype\u001b[39m(font):\n\u001b[0;32m-> 1005\u001b[0m     \u001b[38;5;28;01mreturn\u001b[39;00m \u001b[43mFreeTypeFont\u001b[49m\u001b[43m(\u001b[49m\u001b[43mfont\u001b[49m\u001b[43m,\u001b[49m\u001b[43m \u001b[49m\u001b[43msize\u001b[49m\u001b[43m,\u001b[49m\u001b[43m \u001b[49m\u001b[43mindex\u001b[49m\u001b[43m,\u001b[49m\u001b[43m \u001b[49m\u001b[43mencoding\u001b[49m\u001b[43m,\u001b[49m\u001b[43m \u001b[49m\u001b[43mlayout_engine\u001b[49m\u001b[43m)\u001b[49m\n",
      "File \u001b[0;32m~/anaconda3/lib/python3.10/site-packages/PIL/ImageFont.py:255\u001b[0m, in \u001b[0;36mFreeTypeFont.__init__\u001b[0;34m(self, font, size, index, encoding, layout_engine)\u001b[0m\n\u001b[1;32m    253\u001b[0m                 load_from_bytes(f)\n\u001b[1;32m    254\u001b[0m             \u001b[38;5;28;01mreturn\u001b[39;00m\n\u001b[0;32m--> 255\u001b[0m     \u001b[38;5;28mself\u001b[39m\u001b[38;5;241m.\u001b[39mfont \u001b[38;5;241m=\u001b[39m \u001b[43mcore\u001b[49m\u001b[38;5;241;43m.\u001b[39;49m\u001b[43mgetfont\u001b[49m\u001b[43m(\u001b[49m\n\u001b[1;32m    256\u001b[0m \u001b[43m        \u001b[49m\u001b[43mfont\u001b[49m\u001b[43m,\u001b[49m\u001b[43m \u001b[49m\u001b[43msize\u001b[49m\u001b[43m,\u001b[49m\u001b[43m \u001b[49m\u001b[43mindex\u001b[49m\u001b[43m,\u001b[49m\u001b[43m \u001b[49m\u001b[43mencoding\u001b[49m\u001b[43m,\u001b[49m\u001b[43m \u001b[49m\u001b[43mlayout_engine\u001b[49m\u001b[38;5;241;43m=\u001b[39;49m\u001b[43mlayout_engine\u001b[49m\n\u001b[1;32m    257\u001b[0m \u001b[43m    \u001b[49m\u001b[43m)\u001b[49m\n\u001b[1;32m    258\u001b[0m \u001b[38;5;28;01melse\u001b[39;00m:\n\u001b[1;32m    259\u001b[0m     load_from_bytes(font)\n",
      "\u001b[0;31mOSError\u001b[0m: cannot open resource"
     ]
    }
   ],
   "source": [
    "import pandas as pd\n",
    "from wordcloud import WordCloud\n",
    "import matplotlib.pyplot as plt\n",
    "\n",
    "df = pd.read_csv(\"트리플_1점.csv\")\n",
    "cloudword = df.set_index('word').to_dict()['count']\n",
    "\n",
    "font = \"./나눔스퀘어_네오.oft\"\n",
    "\n",
    "wc = WordCloud(random_state = 1234, \n",
    "               font_path = font, \n",
    "               width = 400,\n",
    "               height = 400, \n",
    "               background_color = 'white')\n",
    "img_wordcloud = wc.generate_from_frequencies(cloudword)\n",
    "\n",
    "plt.figure(figsize = (10, 10)) # 크기 지정하기\n",
    "plt.axis('off') # 축 없애기\n",
    "plt.imshow(img_wordcloud) # 결과 보여주기\n",
    "plt.savefig('트리플1점') # 파일 저장"
   ]
  },
  {
   "cell_type": "code",
   "execution_count": null,
   "id": "63b285cf-2d2d-45d6-9b5f-fdf92ac09360",
   "metadata": {},
   "outputs": [],
   "source": []
  }
 ],
 "metadata": {
  "kernelspec": {
   "display_name": "Python 3 (ipykernel)",
   "language": "python",
   "name": "python3"
  },
  "language_info": {
   "codemirror_mode": {
    "name": "ipython",
    "version": 3
   },
   "file_extension": ".py",
   "mimetype": "text/x-python",
   "name": "python",
   "nbconvert_exporter": "python",
   "pygments_lexer": "ipython3",
   "version": "3.10.9"
  }
 },
 "nbformat": 4,
 "nbformat_minor": 5
}
