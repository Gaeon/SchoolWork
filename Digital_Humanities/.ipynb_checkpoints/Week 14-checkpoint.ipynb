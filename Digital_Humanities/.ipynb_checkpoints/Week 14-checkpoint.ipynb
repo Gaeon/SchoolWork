{
 "cells": [
  {
   "cell_type": "code",
   "execution_count": 10,
   "id": "4a172188-5161-486b-be1e-857f07574e98",
   "metadata": {},
   "outputs": [
    {
     "data": {
      "text/plain": [
       "2762"
      ]
     },
     "execution_count": 10,
     "metadata": {},
     "output_type": "execute_result"
    }
   ],
   "source": [
    "from selenium import webdriver\n",
    "import time\n",
    "\n",
    "driver = webdriver.Chrome()\n",
    "url = 'https://naver.com'\n",
    "driver.get(url)\n",
    "time.sleep(3)\n",
    "driver.execute_script(\"window.scrollTo(0, 1000)\")"
   ]
  },
  {
   "cell_type": "code",
   "execution_count": 11,
   "id": "1dcb51c6-9d39-4c0c-8fcf-30cca69c6b78",
   "metadata": {},
   "outputs": [
    {
     "data": {
      "text/plain": [
       "1701"
      ]
     },
     "execution_count": 11,
     "metadata": {},
     "output_type": "execute_result"
    }
   ],
   "source": [
    "driver.execute_script(\"return window.pageYOffset\")"
   ]
  },
  {
   "cell_type": "code",
   "execution_count": 12,
   "id": "a42273f8-637c-4f78-a1d7-c39ff1a72110",
   "metadata": {},
   "outputs": [
    {
     "data": {
      "text/plain": [
       "2762"
      ]
     },
     "execution_count": 12,
     "metadata": {},
     "output_type": "execute_result"
    }
   ],
   "source": [
    "driver.execute_script(\"return document.documentElement.scrollHeight\")"
   ]
  },
  {
   "cell_type": "code",
   "execution_count": 18,
   "id": "6eed65b0-33d2-4718-a8e5-e47a74e17727",
   "metadata": {},
   "outputs": [],
   "source": [
    "from selenium.webdriver.common.by import By\n",
    "from selenium.webdriver.common.keys import Keys\n",
    "\n",
    "driver.find_element(By.CSS_SELECTOR, 'body').send_keys(Keys.PAGE_DOWN)\n",
    "# driver.find_element(By.CSS_SELECTOR, ),click()"
   ]
  },
  {
   "cell_type": "code",
   "execution_count": null,
   "id": "c44b2b5d-24c2-453c-abea-8444ee73e179",
   "metadata": {},
   "outputs": [],
   "source": []
  }
 ],
 "metadata": {
  "kernelspec": {
   "display_name": "Python 3 (ipykernel)",
   "language": "python",
   "name": "python3"
  },
  "language_info": {
   "codemirror_mode": {
    "name": "ipython",
    "version": 3
   },
   "file_extension": ".py",
   "mimetype": "text/x-python",
   "name": "python",
   "nbconvert_exporter": "python",
   "pygments_lexer": "ipython3",
   "version": "3.10.9"
  }
 },
 "nbformat": 4,
 "nbformat_minor": 5
}
