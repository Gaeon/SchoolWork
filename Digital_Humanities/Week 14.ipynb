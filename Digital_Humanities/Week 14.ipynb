{
 "cells": [
  {
   "cell_type": "code",
   "execution_count": 19,
   "id": "4a172188-5161-486b-be1e-857f07574e98",
   "metadata": {},
   "outputs": [],
   "source": [
    "from selenium import webdriver\n",
    "import time\n",
    "\n",
    "driver = webdriver.Chrome()\n",
    "url = 'http://ecampus.konkuk.ac.kr/ilos/main/main_form.acl'\n",
    "driver.get(url)\n",
    "time.sleep(3)\n",
    "driver.execute_script(\"window.scrollTo(0, 1000)\")"
   ]
  },
  {
   "cell_type": "code",
   "execution_count": 11,
   "id": "1dcb51c6-9d39-4c0c-8fcf-30cca69c6b78",
   "metadata": {},
   "outputs": [
    {
     "data": {
      "text/plain": [
       "1701"
      ]
     },
     "execution_count": 11,
     "metadata": {},
     "output_type": "execute_result"
    }
   ],
   "source": [
    "# driver.execute_script(\"return window.pageYOffset\")"
   ]
  },
  {
   "cell_type": "code",
   "execution_count": 12,
   "id": "a42273f8-637c-4f78-a1d7-c39ff1a72110",
   "metadata": {},
   "outputs": [
    {
     "data": {
      "text/plain": [
       "2762"
      ]
     },
     "execution_count": 12,
     "metadata": {},
     "output_type": "execute_result"
    }
   ],
   "source": [
    "# driver.execute_script(\"return document.documentElement.scrollHeight\")"
   ]
  },
  {
   "cell_type": "code",
   "execution_count": 21,
   "id": "6eed65b0-33d2-4718-a8e5-e47a74e17727",
   "metadata": {},
   "outputs": [],
   "source": [
    "from selenium.webdriver.common.by import By\n",
    "from selenium.webdriver.common.keys import Keys\n",
    "\n",
    "driver.find_element(By.CSS_SELECTOR, 'body').send_keys(Keys.PAGE_DOWN)\n",
    "driver.find_element(By.CSS_SELECTOR, \"#contentsIndex > div.index-leftarea02 > div:nth-child(2) > ol > li:nth-child(3) > em\").click()"
   ]
  },
  {
   "cell_type": "code",
   "execution_count": 26,
   "id": "c44b2b5d-24c2-453c-abea-8444ee73e179",
   "metadata": {},
   "outputs": [
    {
     "name": "stdout",
     "output_type": "stream",
     "text": [
      "finish\n"
     ]
    }
   ],
   "source": [
    "from selenium import webdriver\n",
    "import time\n",
    "from selenium.webdriver.common.by import By\n",
    "from selenium.webdriver.common.keys import Keys\n",
    "\n",
    "driver = webdriver.Chrome()\n",
    "driver.get('https://www.youtube.com/watch?v=DkRWeCJoK5o')\n",
    "time.sleep(1)\n",
    "\n",
    "while True:\n",
    "    old_height = driver.execute_script('return window.pageYOffset')\n",
    "    driver.find_element(By.CSS_SELECTOR, 'body').send_keys(Keys.END)\n",
    "    time.sleep(0.5)\n",
    "    now_height = driver.execute_script('return window.pageYOffset')\n",
    "    if now_height == old_height:\n",
    "        break\n",
    "        \n",
    "import pandas as pd\n",
    "\n",
    "who = driver.find_elements(By.CSS_SELECTOR, \"#author-text > span\")\n",
    "reply = driver.find_elements(By.CSS_SELECTOR, '#content-text')\n",
    "replywho = []\n",
    "for i in who:\n",
    "    replywho.append(i.text)\n",
    "replytext = []\n",
    "for i in reply:\n",
    "    replytext.append(i.text)\n",
    "df = pd.DataFrame({'id':replywho, 'reply':replytext})\n",
    "df.to_csv('youtubereply.csv')\n",
    "print('finish')"
   ]
  },
  {
   "cell_type": "code",
   "execution_count": 32,
   "id": "1610c9ee-72af-43b3-bf33-c2e808698fce",
   "metadata": {},
   "outputs": [
    {
     "name": "stdout",
     "output_type": "stream",
     "text": [
      "더이상 스크롤 버튼이 없습니다.\n"
     ]
    }
   ],
   "source": [
    "from selenium import webdriver\n",
    "import time\n",
    "from selenium.webdriver.common.by import By\n",
    "from selenium.webdriver.common.keys import Keys\n",
    "from selenium.common.exceptions import NoSuchElementException\n",
    "driver = webdriver.Chrome()\n",
    "driver.get('https://page.kakao.com/content/61729411')\n",
    "time.sleep(1)\n",
    "scrollbutton = '#__next > div > div.flex.w-full.grow.flex-col.px-122pxr > div.flex.h-full.flex-1 > \\ div.mb-28pxr.ml-4px.flex.w-632pxr.flex-col > div:nth-child(2) > div.mt-4pxr.bg-bg-a-20 > div > div > \\ div.flex.flex-1.flex-col > div.flex.cursor-pointer.items-center.justify-center.py-8pxr > img'\n",
    "while True:\n",
    "    try:\n",
    "        button = driver.find_element(By.CSS_SELECTOR, scrollbutton)\n",
    "        button.click()\n",
    "        time.sleep(0.5)\n",
    "    except NoSuchElementException : print(\"더이상 스크롤 버튼이 없습니다.\")\n",
    "    break\n",
    "reply = driver.find_elements(By.CLASS_NAME, \"break-word-anywhere\")\n",
    "replytexts = []\n",
    "for i in reply:\n",
    "    replytexts.append(i.text)"
   ]
  },
  {
   "cell_type": "code",
   "execution_count": 34,
   "id": "f7585ea3-ae86-41a2-bc64-f6641baa7255",
   "metadata": {},
   "outputs": [],
   "source": [
    "allcomment = \" \".join(replytexts) #리스트를 한줄로 만들기(공란으로 구분)\n",
    "f = open(\"allcomment.txt\", 'w') #txt 파일 생성, w는 입력상태로 전환 \n",
    "f.write(allcomment) #텍스트 입력\n",
    "f.close() #txt 파일 입력상태 종료"
   ]
  },
  {
   "cell_type": "code",
   "execution_count": null,
   "id": "0be4b366-0999-426a-a863-aa5cb70e1402",
   "metadata": {},
   "outputs": [],
   "source": []
  }
 ],
 "metadata": {
  "kernelspec": {
   "display_name": "Python 3 (ipykernel)",
   "language": "python",
   "name": "python3"
  },
  "language_info": {
   "codemirror_mode": {
    "name": "ipython",
    "version": 3
   },
   "file_extension": ".py",
   "mimetype": "text/x-python",
   "name": "python",
   "nbconvert_exporter": "python",
   "pygments_lexer": "ipython3",
   "version": "3.10.9"
  }
 },
 "nbformat": 4,
 "nbformat_minor": 5
}
