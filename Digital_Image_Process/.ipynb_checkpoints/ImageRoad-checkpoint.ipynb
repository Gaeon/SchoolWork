{
 "cells": [
  {
   "cell_type": "code",
   "execution_count": null,
   "id": "065c3ab2-da40-4caf-8623-64e8a98d8fe5",
   "metadata": {},
   "outputs": [],
   "source": [
    "# cv2.IMREAD_UNCHANGED : 이미지 그대로 출력(원본)\n",
    "# cv2.IMREAD_GRAYSCALE : 1 채널, 회색조 이미지로 변환\n",
    "# cv2.IMREAD_COLOR : 3채널, BGR 이미지로 변환\n",
    "# cv2.IMREAD_ANYDEPTH : 이미지에 따라 16,32bit 또는 8비트로 변환\n",
    "# cv2.IMREAD_ANYCOLOR : 이미지 모든 색상 형식으로 읽기\n",
    "\n",
    "import cv2\n",
    "import numpy as np\n",
    "import matplotlib.pyplot as plt\n",
    "from tkinter import *\n",
    "\n",
    "class GetVideo():\n",
    "    def get_video_frames(self, filename):\n",
    "        address = \"./실습동영상/\" + filename\n",
    "        capture = cv2.VideoCapture(address)\n",
    "        frames = []\n",
    "        while capture.isOpened():\n",
    "            run, frame = capture.read()\n",
    "            if not run:\n",
    "                break\n",
    "            img = cv2.cvtColor(frame, cv2.IMREAD_COLOR)\n",
    "            frames.append(img)\n",
    "        capture.release()\n",
    "        return np.array(frames, dtype='uint8')\n",
    "\n",
    "if __name__=='__main__':\n",
    "    frames = GetVideo().get_video_frames(\"예시1.avi\")\n",
    "    for frame in frames:\n",
    "        cv2.imshow(\"Video1\", frame)\n",
    "        if cv2.waitKey(30)&0xFF == ord('q'):\n",
    "            break\n",
    "    cv2.waitKey(0)\n",
    "    cv2.destroyAllWindows()\n",
    "    cv2.waitKey(1)\n",
    "    \n",
    "        \n",
    "        "
   ]
  }
 ],
 "metadata": {
  "kernelspec": {
   "display_name": "Python 3 (ipykernel)",
   "language": "python",
   "name": "python3"
  },
  "language_info": {
   "codemirror_mode": {
    "name": "ipython",
    "version": 3
   },
   "file_extension": ".py",
   "mimetype": "text/x-python",
   "name": "python",
   "nbconvert_exporter": "python",
   "pygments_lexer": "ipython3",
   "version": "3.10.9"
  }
 },
 "nbformat": 4,
 "nbformat_minor": 5
}
