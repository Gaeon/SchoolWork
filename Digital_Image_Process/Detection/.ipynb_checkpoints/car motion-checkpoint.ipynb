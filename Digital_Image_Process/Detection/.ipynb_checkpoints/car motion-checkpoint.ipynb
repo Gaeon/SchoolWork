{
 "cells": [
  {
   "cell_type": "code",
   "execution_count": 5,
   "metadata": {},
   "outputs": [
    {
     "ename": "NameError",
     "evalue": "name 'car_cascade' is not defined",
     "output_type": "error",
     "traceback": [
      "\u001b[0;31m---------------------------------------------------------------------------\u001b[0m",
      "\u001b[0;31mNameError\u001b[0m                                 Traceback (most recent call last)",
      "Cell \u001b[0;32mIn[5], line 36\u001b[0m\n\u001b[1;32m     33\u001b[0m     \u001b[38;5;28;01mbreak\u001b[39;00m\n\u001b[1;32m     35\u001b[0m \u001b[38;5;66;03m# 차 detection\u001b[39;00m\n\u001b[0;32m---> 36\u001b[0m cars \u001b[38;5;241m=\u001b[39m \u001b[43mcar_cascade\u001b[49m\u001b[38;5;241m.\u001b[39mdetectMultiScale(gray_frame, \u001b[38;5;241m1.1\u001b[39m, \u001b[38;5;241m2\u001b[39m)\n\u001b[1;32m     38\u001b[0m \u001b[38;5;66;03m# 자동차 주변에 박스\u001b[39;00m\n\u001b[1;32m     39\u001b[0m \u001b[38;5;28;01mfor\u001b[39;00m (x, y, w, h) \u001b[38;5;129;01min\u001b[39;00m cars:\n",
      "\u001b[0;31mNameError\u001b[0m: name 'car_cascade' is not defined"
     ]
    }
   ],
   "source": [
    "from sre_parse import TYPE_FLAGS\n",
    "import cv2\n",
    "import numpy as np\n",
    "from tqdm import tqdm\n",
    "import time\n",
    "import time\n",
    "from sre_parse import TYPE_FLAGS\n",
    "\n",
    "\n",
    "# 파일 불러오기\n",
    "vid_file = cv2.VideoCapture(\"car.mp4\")\n",
    "\n",
    "def vehicle_detection(self, frames):\n",
    "        hsv_frames = self.frames_rgb_to_hsv(frames)\n",
    "        back_deleted_frames = self.delete_background(hsv_frames[:,:,:,2].copy())\n",
    "        hsv_frames[:,:,:,2] = self.thresholding(back_deleted_frames, 30, 230)\n",
    "        \n",
    "        hsv_frames = self.frames_hsv_to_rgb(hsv_frames)\n",
    "        connected_frames = self.connect_components(hsv_frames, frames, 120)\n",
    "\n",
    "        return connected_frames\n",
    "\n",
    "while vid_file.isOpened():\n",
    "    # 비디오를 프레임당 불러온다\n",
    "    (read_successful, frame) = vid_file.read()\n",
    "\n",
    "    \n",
    "    if read_successful:\n",
    "        # 흑백영상으로 변환\n",
    "        gray_frame = cv2.cvtColor(frame, cv2.COLOR_BGR2GRAY)\n",
    "    else:\n",
    "        break\n",
    "        \n",
    "    # 차 detection\n",
    "    cars = car_cascade.detectMultiScale(gray_frame, 1.1, 2)\n",
    "    \n",
    "    # 자동차 주변에 박스\n",
    "    for (x, y, w, h) in cars:\n",
    "        cv2.rectangle(frame, (x, y), (x + w, y + h), (0, 0, 255), 2)\n",
    "        \n",
    "        cv2.putText(frame, 'Car', (x, y - 10),\n",
    "                    cv2.FONT_HERSHEY_SIMPLEX, 0.7, (0, 0, 255), 2)\n",
    "    # display한다.\n",
    "    cv2.imshow('Car Detection', frame)\n",
    "    \n",
    "    k = cv2.waitKey(30)\n",
    "    if k == 27:\n",
    "        break\n",
    "\n",
    "\n",
    "# Release video capture object\n",
    "vid_file.release()\n",
    "cv2.destroyAllWindows()\n"
   ]
  },
  {
   "cell_type": "code",
   "execution_count": null,
   "metadata": {},
   "outputs": [],
   "source": []
  },
  {
   "cell_type": "code",
   "execution_count": null,
   "metadata": {},
   "outputs": [],
   "source": []
  }
 ],
 "metadata": {
  "kernelspec": {
   "display_name": "Python 3 (ipykernel)",
   "language": "python",
   "name": "python3"
  },
  "language_info": {
   "codemirror_mode": {
    "name": "ipython",
    "version": 3
   },
   "file_extension": ".py",
   "mimetype": "text/x-python",
   "name": "python",
   "nbconvert_exporter": "python",
   "pygments_lexer": "ipython3",
   "version": "3.10.9"
  }
 },
 "nbformat": 4,
 "nbformat_minor": 4
}
